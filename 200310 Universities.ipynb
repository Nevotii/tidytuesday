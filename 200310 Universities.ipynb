{
 "cells": [
  {
   "cell_type": "code",
   "execution_count": 1,
   "metadata": {},
   "outputs": [],
   "source": [
    "import numpy as np\n",
    "import pandas as pd\n",
    "import altair as alt\n",
    "from vega_datasets import data"
   ]
  },
  {
   "cell_type": "code",
   "execution_count": 2,
   "metadata": {},
   "outputs": [],
   "source": [
    "#Load datasets\n",
    "diversity = pd.read_csv('https://raw.githubusercontent.com/rfordatascience/tidytuesday/master/data/2020/2020-03-10/diversity_school.csv')\n",
    "cost = pd.read_csv('https://raw.githubusercontent.com/rfordatascience/tidytuesday/master/data/2020/2020-03-10/tuition_cost.csv')"
   ]
  },
  {
   "cell_type": "code",
   "execution_count": 3,
   "metadata": {},
   "outputs": [],
   "source": [
    "priciest50 = cost.sort_values(by=['in_state_total'], ascending=False)[:50].name\n",
    "cheapest50 = cost.sort_values(by=['in_state_total'], ascending=True)[:50].name"
   ]
  },
  {
   "cell_type": "code",
   "execution_count": 4,
   "metadata": {},
   "outputs": [],
   "source": [
    "categories = [\"White\",\"Black\", \"Hispanic\", \"Asian\", \"American Indian / Alaska Native\", \"Native Hawaiian / Pacific Islander\"]"
   ]
  },
  {
   "cell_type": "code",
   "execution_count": 5,
   "metadata": {},
   "outputs": [],
   "source": [
    "df2 = diversity[(diversity.category.isin(categories))& diversity.name.isin(priciest50)]\n",
    "df4 = diversity[(diversity.category.isin(categories))& diversity.name.isin(cheapest50)]"
   ]
  },
  {
   "cell_type": "code",
   "execution_count": 6,
   "metadata": {},
   "outputs": [],
   "source": [
    "df3 = df2.loc[:, df2.columns != 'total_enrollment']\n",
    "\n",
    "df3 = df3.pivot(columns='category', values='enrollment', index='name')\n",
    "\n",
    "df3 = df3.assign(sum=df3.apply(np.sum, axis=1)).reset_index()\n",
    "\n",
    "df3 = df3.melt(id_vars=['name','sum']).sort_values(by='name')\n",
    "\n",
    "df3 = df3.assign(prop=lambda x: x.value/x['sum']*100)"
   ]
  },
  {
   "cell_type": "code",
   "execution_count": 7,
   "metadata": {},
   "outputs": [],
   "source": [
    "df5 = df4.loc[:, df2.columns != 'total_enrollment']\n",
    "\n",
    "df5 = df5.pivot(columns='category', values='enrollment', index='name')\n",
    "\n",
    "df5 = df5.assign(sum=df5.apply(np.sum, axis=1)).reset_index()\n",
    "\n",
    "df5 = df5.melt(id_vars=['name','sum']).sort_values(by='name')\n",
    "\n",
    "df5 = df5.assign(prop=lambda x: x.value/x['sum']*100)"
   ]
  },
  {
   "cell_type": "code",
   "execution_count": 8,
   "metadata": {},
   "outputs": [],
   "source": [
    "pricy_order = df3[df3.category=='White'].sort_values(by=['prop'],ascending=False).name\n",
    "cheapy_order = df5[df5.category=='White'].sort_values(by=['prop'],ascending=False).name"
   ]
  },
  {
   "cell_type": "code",
   "execution_count": 24,
   "metadata": {},
   "outputs": [],
   "source": [
    "expensive_chart = alt.Chart(df3).mark_bar().encode(\n",
    "    alt.X('sum(value)',stack='normalize',title=''),\n",
    "    alt.Y('name', sort=list(pricy_order),title='University'),\n",
    "    color = 'category'\n",
    ").properties(width = 200, height=800)\n",
    "\n",
    "cheap_chart = alt.Chart(df5).mark_bar().encode(\n",
    "    alt.X('sum(value)',stack='normalize',title=''),\n",
    "    alt.Y('name', sort=list(cheapy_order),title='University'),\n",
    "    color = 'category'\n",
    ").properties(width = 200, height=800)\n",
    "\n",
    "#Unify for final plot\n",
    "alt.hconcat(expensive_chart, cheap_chart)"
   ]
  },
  {
   "cell_type": "code",
   "execution_count": 10,
   "metadata": {},
   "outputs": [
    {
     "data": {
      "text/html": [
       "\n",
       "<div id=\"altair-viz-abb0e0dad74446f9bc03d48659a9e795\"></div>\n",
       "<script type=\"text/javascript\">\n",
       "  (function(spec, embedOpt){\n",
       "    const outputDiv = document.getElementById(\"altair-viz-abb0e0dad74446f9bc03d48659a9e795\");\n",
       "    const paths = {\n",
       "      \"vega\": \"https://cdn.jsdelivr.net/npm//vega@5?noext\",\n",
       "      \"vega-lib\": \"https://cdn.jsdelivr.net/npm//vega-lib?noext\",\n",
       "      \"vega-lite\": \"https://cdn.jsdelivr.net/npm//vega-lite@4.0.2?noext\",\n",
       "      \"vega-embed\": \"https://cdn.jsdelivr.net/npm//vega-embed@6?noext\",\n",
       "    };\n",
       "\n",
       "    function loadScript(lib) {\n",
       "      return new Promise(function(resolve, reject) {\n",
       "        var s = document.createElement('script');\n",
       "        s.src = paths[lib];\n",
       "        s.async = true;\n",
       "        s.onload = () => resolve(paths[lib]);\n",
       "        s.onerror = () => reject(`Error loading script: ${paths[lib]}`);\n",
       "        document.getElementsByTagName(\"head\")[0].appendChild(s);\n",
       "      });\n",
       "    }\n",
       "\n",
       "    function showError(err) {\n",
       "      outputDiv.innerHTML = `<div class=\"error\" style=\"color:red;\">${err}</div>`;\n",
       "      throw err;\n",
       "    }\n",
       "\n",
       "    function displayChart(vegaEmbed) {\n",
       "      vegaEmbed(outputDiv, spec, embedOpt)\n",
       "        .catch(err => showError(`Javascript Error: ${err.message}<br>This usually means there's a typo in your chart specification. See the javascript console for the full traceback.`));\n",
       "    }\n",
       "\n",
       "    if(typeof define === \"function\" && define.amd) {\n",
       "      requirejs.config({paths});\n",
       "      require([\"vega-embed\"], displayChart, err => showError(`Error loading script: ${err.message}`));\n",
       "    } else if (typeof vegaEmbed === \"function\") {\n",
       "      displayChart(vegaEmbed);\n",
       "    } else {\n",
       "      loadScript(\"vega\")\n",
       "        .then(() => loadScript(\"vega-lite\"))\n",
       "        .then(() => loadScript(\"vega-embed\"))\n",
       "        .catch(showError)\n",
       "        .then(() => displayChart(vegaEmbed));\n",
       "    }\n",
       "  })({\"config\": {\"view\": {\"continuousWidth\": 400, \"continuousHeight\": 300}}, \"data\": {\"name\": \"data-c56c4d0c8fc84ede1d292fdf6ac58936\"}, \"mark\": \"bar\", \"encoding\": {\"color\": {\"type\": \"nominal\", \"field\": \"category\"}, \"x\": {\"type\": \"quantitative\", \"field\": \"prop\", \"scale\": {\"domain\": [0, 100]}, \"stack\": \"zero\"}, \"y\": {\"type\": \"nominal\", \"field\": \"name\", \"sort\": [\"Bennington College\", \"Hobart and William Smith Colleges\", \"Connecticut College\", \"Bard College\", \"Oberlin College\", \"Colgate University\", \"Bard College at Simon's Rock\", \"Middlebury College\", \"Tulane University\", \"Sarah Lawrence College\", \"Franklin & Marshall College\", \"Reed College\", \"Boston College\", \"Franklin W. Olin College of Engineering\", \"Haverford College\", \"University of Rochester\", \"Southern Methodist University\", \"Tufts University\", \"Brandeis University\", \"Vassar College\", \"Fordham University\", \"Pitzer College\", \"Williams College\", \"Smith College\", \"Northwestern University\", \"University of Chicago\", \"Duke University\", \"Dartmouth College\", \"Johns Hopkins University\", \"Barnard College\", \"University of Pennsylvania\", \"Claremont McKenna College\", \"Occidental College\", \"Scripps College\", \"Brown University\", \"Cornell University\", \"Columbia University\", \"Harvey Mudd College\", \"New York University\", \"Carnegie Mellon University\", \"Amherst College\", \"Wellesley College\", \"University of Southern California\"]}}, \"$schema\": \"https://vega.github.io/schema/vega-lite/v4.0.2.json\", \"datasets\": {\"data-c56c4d0c8fc84ede1d292fdf6ac58936\": [{\"name\": \"Amherst College\", \"sum\": 1449, \"category\": \"American Indian / Alaska Native\", \"value\": 6, \"prop\": 0.4140786749482402}, {\"name\": \"Amherst College\", \"sum\": 1449, \"category\": \"Native Hawaiian / Pacific Islander\", \"value\": 1, \"prop\": 0.06901311249137336}, {\"name\": \"Amherst College\", \"sum\": 1449, \"category\": \"Hispanic\", \"value\": 235, \"prop\": 16.21808143547274}, {\"name\": \"Amherst College\", \"sum\": 1449, \"category\": \"Black\", \"value\": 222, \"prop\": 15.320910973084887}, {\"name\": \"Amherst College\", \"sum\": 1449, \"category\": \"Asian\", \"value\": 234, \"prop\": 16.149068322981368}, {\"name\": \"Amherst College\", \"sum\": 1449, \"category\": \"White\", \"value\": 751, \"prop\": 51.82884748102139}, {\"name\": \"Bard College\", \"sum\": 1697, \"category\": \"Hispanic\", \"value\": 31, \"prop\": 1.8267530936947556}, {\"name\": \"Bard College\", \"sum\": 1697, \"category\": \"Asian\", \"value\": 115, \"prop\": 6.776664702416029}, {\"name\": \"Bard College\", \"sum\": 1697, \"category\": \"Native Hawaiian / Pacific Islander\", \"value\": 0, \"prop\": 0.0}, {\"name\": \"Bard College\", \"sum\": 1697, \"category\": \"White\", \"value\": 1385, \"prop\": 81.61461402474956}, {\"name\": \"Bard College\", \"sum\": 1697, \"category\": \"American Indian / Alaska Native\", \"value\": 14, \"prop\": 0.8249852681202121}, {\"name\": \"Bard College\", \"sum\": 1697, \"category\": \"Black\", \"value\": 152, \"prop\": 8.956982911019445}, {\"name\": \"Bard College at Simon's Rock\", \"sum\": 218, \"category\": \"American Indian / Alaska Native\", \"value\": 1, \"prop\": 0.45871559633027525}, {\"name\": \"Bard College at Simon's Rock\", \"sum\": 218, \"category\": \"Hispanic\", \"value\": 8, \"prop\": 3.669724770642202}, {\"name\": \"Bard College at Simon's Rock\", \"sum\": 218, \"category\": \"Asian\", \"value\": 19, \"prop\": 8.715596330275229}, {\"name\": \"Bard College at Simon's Rock\", \"sum\": 218, \"category\": \"Native Hawaiian / Pacific Islander\", \"value\": 1, \"prop\": 0.45871559633027525}, {\"name\": \"Bard College at Simon's Rock\", \"sum\": 218, \"category\": \"White\", \"value\": 171, \"prop\": 78.44036697247707}, {\"name\": \"Bard College at Simon's Rock\", \"sum\": 218, \"category\": \"Black\", \"value\": 18, \"prop\": 8.256880733944955}, {\"name\": \"Barnard College\", \"sum\": 2232, \"category\": \"Native Hawaiian / Pacific Islander\", \"value\": 1, \"prop\": 0.044802867383512544}, {\"name\": \"Barnard College\", \"sum\": 2232, \"category\": \"Asian\", \"value\": 367, \"prop\": 16.442652329749105}, {\"name\": \"Barnard College\", \"sum\": 2232, \"category\": \"American Indian / Alaska Native\", \"value\": 1, \"prop\": 0.044802867383512544}, {\"name\": \"Barnard College\", \"sum\": 2232, \"category\": \"White\", \"value\": 1409, \"prop\": 63.12724014336918}, {\"name\": \"Barnard College\", \"sum\": 2232, \"category\": \"Hispanic\", \"value\": 286, \"prop\": 12.813620071684587}, {\"name\": \"Barnard College\", \"sum\": 2232, \"category\": \"Black\", \"value\": 168, \"prop\": 7.526881720430108}, {\"name\": \"Bennington College\", \"sum\": 604, \"category\": \"American Indian / Alaska Native\", \"value\": 13, \"prop\": 2.152317880794702}, {\"name\": \"Bennington College\", \"sum\": 604, \"category\": \"Hispanic\", \"value\": 38, \"prop\": 6.291390728476822}, {\"name\": \"Bennington College\", \"sum\": 604, \"category\": \"Asian\", \"value\": 25, \"prop\": 4.13907284768212}, {\"name\": \"Bennington College\", \"sum\": 604, \"category\": \"Native Hawaiian / Pacific Islander\", \"value\": 1, \"prop\": 0.16556291390728478}, {\"name\": \"Bennington College\", \"sum\": 604, \"category\": \"Black\", \"value\": 10, \"prop\": 1.6556291390728477}, {\"name\": \"Bennington College\", \"sum\": 604, \"category\": \"White\", \"value\": 517, \"prop\": 85.59602649006622}, {\"name\": \"Boston College\", \"sum\": 11272, \"category\": \"American Indian / Alaska Native\", \"value\": 15, \"prop\": 0.13307310149041873}, {\"name\": \"Boston College\", \"sum\": 11272, \"category\": \"Black\", \"value\": 575, \"prop\": 5.101135557132718}, {\"name\": \"Boston College\", \"sum\": 11272, \"category\": \"Native Hawaiian / Pacific Islander\", \"value\": 1, \"prop\": 0.008871540099361249}, {\"name\": \"Boston College\", \"sum\": 11272, \"category\": \"Asian\", \"value\": 1144, \"prop\": 10.149041873669269}, {\"name\": \"Boston College\", \"sum\": 11272, \"category\": \"Hispanic\", \"value\": 1238, \"prop\": 10.982966643009226}, {\"name\": \"Boston College\", \"sum\": 11272, \"category\": \"White\", \"value\": 8299, \"prop\": 73.62491128459901}, {\"name\": \"Brandeis University\", \"sum\": 3832, \"category\": \"Hispanic\", \"value\": 323, \"prop\": 8.42901878914405}, {\"name\": \"Brandeis University\", \"sum\": 3832, \"category\": \"Asian\", \"value\": 582, \"prop\": 15.187891440501044}, {\"name\": \"Brandeis University\", \"sum\": 3832, \"category\": \"Black\", \"value\": 275, \"prop\": 7.176409185803758}, {\"name\": \"Brandeis University\", \"sum\": 3832, \"category\": \"Native Hawaiian / Pacific Islander\", \"value\": 3, \"prop\": 0.07828810020876827}, {\"name\": \"Brandeis University\", \"sum\": 3832, \"category\": \"American Indian / Alaska Native\", \"value\": 6, \"prop\": 0.15657620041753653}, {\"name\": \"Brandeis University\", \"sum\": 3832, \"category\": \"White\", \"value\": 2643, \"prop\": 68.97181628392485}, {\"name\": \"Brown University\", \"sum\": 6468, \"category\": \"Native Hawaiian / Pacific Islander\", \"value\": 13, \"prop\": 0.2009894867037724}, {\"name\": \"Brown University\", \"sum\": 6468, \"category\": \"White\", \"value\": 3886, \"prop\": 60.08039579468151}, {\"name\": \"Brown University\", \"sum\": 6468, \"category\": \"Black\", \"value\": 550, \"prop\": 8.503401360544217}, {\"name\": \"Brown University\", \"sum\": 6468, \"category\": \"American Indian / Alaska Native\", \"value\": 26, \"prop\": 0.4019789734075448}, {\"name\": \"Brown University\", \"sum\": 6468, \"category\": \"Asian\", \"value\": 1099, \"prop\": 16.99134199134199}, {\"name\": \"Brown University\", \"sum\": 6468, \"category\": \"Hispanic\", \"value\": 894, \"prop\": 13.821892393320963}, {\"name\": \"Carnegie Mellon University\", \"sum\": 6805, \"category\": \"Black\", \"value\": 402, \"prop\": 5.907421013960324}, {\"name\": \"Carnegie Mellon University\", \"sum\": 6805, \"category\": \"American Indian / Alaska Native\", \"value\": 9, \"prop\": 0.1322556943423953}, {\"name\": \"Carnegie Mellon University\", \"sum\": 6805, \"category\": \"Asian\", \"value\": 2071, \"prop\": 30.433504775900072}, {\"name\": \"Carnegie Mellon University\", \"sum\": 6805, \"category\": \"White\", \"value\": 3747, \"prop\": 55.062454077883906}, {\"name\": \"Carnegie Mellon University\", \"sum\": 6805, \"category\": \"Native Hawaiian / Pacific Islander\", \"value\": 2, \"prop\": 0.029390154298310066}, {\"name\": \"Carnegie Mellon University\", \"sum\": 6805, \"category\": \"Hispanic\", \"value\": 574, \"prop\": 8.43497428361499}, {\"name\": \"Claremont McKenna College\", \"sum\": 911, \"category\": \"Black\", \"value\": 54, \"prop\": 5.92755214050494}, {\"name\": \"Claremont McKenna College\", \"sum\": 911, \"category\": \"White\", \"value\": 559, \"prop\": 61.361141602634476}, {\"name\": \"Claremont McKenna College\", \"sum\": 911, \"category\": \"Hispanic\", \"value\": 154, \"prop\": 16.90450054884742}, {\"name\": \"Claremont McKenna College\", \"sum\": 911, \"category\": \"American Indian / Alaska Native\", \"value\": 1, \"prop\": 0.10976948408342481}, {\"name\": \"Claremont McKenna College\", \"sum\": 911, \"category\": \"Native Hawaiian / Pacific Islander\", \"value\": 1, \"prop\": 0.10976948408342481}, {\"name\": \"Claremont McKenna College\", \"sum\": 911, \"category\": \"Asian\", \"value\": 142, \"prop\": 15.587266739846322}, {\"name\": \"Colgate University\", \"sum\": 2413, \"category\": \"Native Hawaiian / Pacific Islander\", \"value\": 3, \"prop\": 0.12432656444260257}, {\"name\": \"Colgate University\", \"sum\": 2413, \"category\": \"Black\", \"value\": 120, \"prop\": 4.973062577704103}, {\"name\": \"Colgate University\", \"sum\": 2413, \"category\": \"White\", \"value\": 1942, \"prop\": 80.4807293825114}, {\"name\": \"Colgate University\", \"sum\": 2413, \"category\": \"Hispanic\", \"value\": 243, \"prop\": 10.070451719850809}, {\"name\": \"Colgate University\", \"sum\": 2413, \"category\": \"American Indian / Alaska Native\", \"value\": 2, \"prop\": 0.08288437629506838}, {\"name\": \"Colgate University\", \"sum\": 2413, \"category\": \"Asian\", \"value\": 103, \"prop\": 4.268545379196022}, {\"name\": \"Columbia University\", \"sum\": 16754, \"category\": \"Hispanic\", \"value\": 2188, \"prop\": 13.059567864390592}, {\"name\": \"Columbia University\", \"sum\": 16754, \"category\": \"American Indian / Alaska Native\", \"value\": 69, \"prop\": 0.4118419481914767}, {\"name\": \"Columbia University\", \"sum\": 16754, \"category\": \"Asian\", \"value\": 3474, \"prop\": 20.735346782857825}, {\"name\": \"Columbia University\", \"sum\": 16754, \"category\": \"Native Hawaiian / Pacific Islander\", \"value\": 27, \"prop\": 0.16115554494449089}, {\"name\": \"Columbia University\", \"sum\": 16754, \"category\": \"White\", \"value\": 9585, \"prop\": 57.21021845529426}, {\"name\": \"Columbia University\", \"sum\": 16754, \"category\": \"Black\", \"value\": 1411, \"prop\": 8.421869404321356}, {\"name\": \"Connecticut College\", \"sum\": 1655, \"category\": \"Hispanic\", \"value\": 163, \"prop\": 9.848942598187312}, {\"name\": \"Connecticut College\", \"sum\": 1655, \"category\": \"American Indian / Alaska Native\", \"value\": 0, \"prop\": 0.0}, {\"name\": \"Connecticut College\", \"sum\": 1655, \"category\": \"Asian\", \"value\": 67, \"prop\": 4.04833836858006}, {\"name\": \"Connecticut College\", \"sum\": 1655, \"category\": \"White\", \"value\": 1363, \"prop\": 82.35649546827794}, {\"name\": \"Connecticut College\", \"sum\": 1655, \"category\": \"Black\", \"value\": 62, \"prop\": 3.746223564954683}, {\"name\": \"Connecticut College\", \"sum\": 1655, \"category\": \"Native Hawaiian / Pacific Islander\", \"value\": 0, \"prop\": 0.0}, {\"name\": \"Cornell University\", \"sum\": 14860, \"category\": \"White\", \"value\": 8599, \"prop\": 57.86675639300135}, {\"name\": \"Cornell University\", \"sum\": 14860, \"category\": \"Hispanic\", \"value\": 1994, \"prop\": 13.418573351278601}, {\"name\": \"Cornell University\", \"sum\": 14860, \"category\": \"American Indian / Alaska Native\", \"value\": 64, \"prop\": 0.43068640646029605}, {\"name\": \"Cornell University\", \"sum\": 14860, \"category\": \"Asian\", \"value\": 3129, \"prop\": 21.056527590847914}, {\"name\": \"Cornell University\", \"sum\": 14860, \"category\": \"Black\", \"value\": 1059, \"prop\": 7.1265141318977125}, {\"name\": \"Cornell University\", \"sum\": 14860, \"category\": \"Native Hawaiian / Pacific Islander\", \"value\": 15, \"prop\": 0.1009421265141319}, {\"name\": \"Dartmouth College\", \"sum\": 4639, \"category\": \"Black\", \"value\": 341, \"prop\": 7.350722138391895}, {\"name\": \"Dartmouth College\", \"sum\": 4639, \"category\": \"American Indian / Alaska Native\", \"value\": 102, \"prop\": 2.198749730545376}, {\"name\": \"Dartmouth College\", \"sum\": 4639, \"category\": \"Hispanic\", \"value\": 446, \"prop\": 9.614140978659194}, {\"name\": \"Dartmouth College\", \"sum\": 4639, \"category\": \"Native Hawaiian / Pacific Islander\", \"value\": 7, \"prop\": 0.15089458935115327}, {\"name\": \"Dartmouth College\", \"sum\": 4639, \"category\": \"Asian\", \"value\": 775, \"prop\": 16.706186678163398}, {\"name\": \"Dartmouth College\", \"sum\": 4639, \"category\": \"White\", \"value\": 2968, \"prop\": 63.97930588488898}, {\"name\": \"Duke University\", \"sum\": 12094, \"category\": \"American Indian / Alaska Native\", \"value\": 66, \"prop\": 0.5457251529684141}, {\"name\": \"Duke University\", \"sum\": 12094, \"category\": \"White\", \"value\": 7787, \"prop\": 64.3872994873491}, {\"name\": \"Duke University\", \"sum\": 12094, \"category\": \"Native Hawaiian / Pacific Islander\", \"value\": 20, \"prop\": 0.165371258475277}, {\"name\": \"Duke University\", \"sum\": 12094, \"category\": \"Asian\", \"value\": 2268, \"prop\": 18.753100711096412}, {\"name\": \"Duke University\", \"sum\": 12094, \"category\": \"Hispanic\", \"value\": 797, \"prop\": 6.590044650239789}, {\"name\": \"Duke University\", \"sum\": 12094, \"category\": \"Black\", \"value\": 1156, \"prop\": 9.55845873987101}, {\"name\": \"Fordham University\", \"sum\": 12400, \"category\": \"Native Hawaiian / Pacific Islander\", \"value\": 15, \"prop\": 0.12096774193548387}, {\"name\": \"Fordham University\", \"sum\": 12400, \"category\": \"Asian\", \"value\": 1164, \"prop\": 9.387096774193548}, {\"name\": \"Fordham University\", \"sum\": 12400, \"category\": \"Black\", \"value\": 959, \"prop\": 7.733870967741935}, {\"name\": \"Fordham University\", \"sum\": 12400, \"category\": \"Hispanic\", \"value\": 1879, \"prop\": 15.153225806451612}, {\"name\": \"Fordham University\", \"sum\": 12400, \"category\": \"White\", \"value\": 8365, \"prop\": 67.45967741935483}, {\"name\": \"Fordham University\", \"sum\": 12400, \"category\": \"American Indian / Alaska Native\", \"value\": 18, \"prop\": 0.14516129032258066}, {\"name\": \"Franklin & Marshall College\", \"sum\": 1709, \"category\": \"Black\", \"value\": 122, \"prop\": 7.1386775892334695}, {\"name\": \"Franklin & Marshall College\", \"sum\": 1709, \"category\": \"American Indian / Alaska Native\", \"value\": 2, \"prop\": 0.11702750146284377}, {\"name\": \"Franklin & Marshall College\", \"sum\": 1709, \"category\": \"White\", \"value\": 1307, \"prop\": 76.4774722059684}, {\"name\": \"Franklin & Marshall College\", \"sum\": 1709, \"category\": \"Native Hawaiian / Pacific Islander\", \"value\": 0, \"prop\": 0.0}, {\"name\": \"Franklin & Marshall College\", \"sum\": 1709, \"category\": \"Hispanic\", \"value\": 177, \"prop\": 10.356933879461673}, {\"name\": \"Franklin & Marshall College\", \"sum\": 1709, \"category\": \"Asian\", \"value\": 101, \"prop\": 5.90988882387361}, {\"name\": \"Franklin W. Olin College of Engineering\", \"sum\": 254, \"category\": \"White\", \"value\": 187, \"prop\": 73.62204724409449}, {\"name\": \"Franklin W. Olin College of Engineering\", \"sum\": 254, \"category\": \"Black\", \"value\": 3, \"prop\": 1.1811023622047243}, {\"name\": \"Franklin W. Olin College of Engineering\", \"sum\": 254, \"category\": \"American Indian / Alaska Native\", \"value\": 1, \"prop\": 0.39370078740157477}, {\"name\": \"Franklin W. Olin College of Engineering\", \"sum\": 254, \"category\": \"Native Hawaiian / Pacific Islander\", \"value\": 0, \"prop\": 0.0}, {\"name\": \"Franklin W. Olin College of Engineering\", \"sum\": 254, \"category\": \"Hispanic\", \"value\": 12, \"prop\": 4.724409448818897}, {\"name\": \"Franklin W. Olin College of Engineering\", \"sum\": 254, \"category\": \"Asian\", \"value\": 51, \"prop\": 20.078740157480315}, {\"name\": \"Harvey Mudd College\", \"sum\": 616, \"category\": \"White\", \"value\": 352, \"prop\": 57.14285714285714}, {\"name\": \"Harvey Mudd College\", \"sum\": 616, \"category\": \"American Indian / Alaska Native\", \"value\": 4, \"prop\": 0.6493506493506493}, {\"name\": \"Harvey Mudd College\", \"sum\": 616, \"category\": \"Asian\", \"value\": 167, \"prop\": 27.110389610389614}, {\"name\": \"Harvey Mudd College\", \"sum\": 616, \"category\": \"Native Hawaiian / Pacific Islander\", \"value\": 0, \"prop\": 0.0}, {\"name\": \"Harvey Mudd College\", \"sum\": 616, \"category\": \"Hispanic\", \"value\": 80, \"prop\": 12.987012987012985}, {\"name\": \"Harvey Mudd College\", \"sum\": 616, \"category\": \"Black\", \"value\": 13, \"prop\": 2.1103896103896105}, {\"name\": \"Haverford College\", \"sum\": 1041, \"category\": \"Asian\", \"value\": 100, \"prop\": 9.606147934678194}, {\"name\": \"Haverford College\", \"sum\": 1041, \"category\": \"Black\", \"value\": 69, \"prop\": 6.628242074927954}, {\"name\": \"Haverford College\", \"sum\": 1041, \"category\": \"White\", \"value\": 766, \"prop\": 73.58309317963496}, {\"name\": \"Haverford College\", \"sum\": 1041, \"category\": \"Hispanic\", \"value\": 102, \"prop\": 9.798270893371757}, {\"name\": \"Haverford College\", \"sum\": 1041, \"category\": \"American Indian / Alaska Native\", \"value\": 4, \"prop\": 0.38424591738712777}, {\"name\": \"Haverford College\", \"sum\": 1041, \"category\": \"Native Hawaiian / Pacific Islander\", \"value\": 0, \"prop\": 0.0}, {\"name\": \"Hobart and William Smith Colleges\", \"sum\": 1987, \"category\": \"Hispanic\", \"value\": 145, \"prop\": 7.297433316557625}, {\"name\": \"Hobart and William Smith Colleges\", \"sum\": 1987, \"category\": \"Native Hawaiian / Pacific Islander\", \"value\": 2, \"prop\": 0.10065425264217413}, {\"name\": \"Hobart and William Smith Colleges\", \"sum\": 1987, \"category\": \"Black\", \"value\": 109, \"prop\": 5.48565676899849}, {\"name\": \"Hobart and William Smith Colleges\", \"sum\": 1987, \"category\": \"American Indian / Alaska Native\", \"value\": 14, \"prop\": 0.7045797684952189}, {\"name\": \"Hobart and William Smith Colleges\", \"sum\": 1987, \"category\": \"Asian\", \"value\": 76, \"prop\": 3.824861600402617}, {\"name\": \"Hobart and William Smith Colleges\", \"sum\": 1987, \"category\": \"White\", \"value\": 1641, \"prop\": 82.58681429290388}, {\"name\": \"Johns Hopkins University\", \"sum\": 16074, \"category\": \"White\", \"value\": 10176, \"prop\": 63.30720418066442}, {\"name\": \"Johns Hopkins University\", \"sum\": 16074, \"category\": \"American Indian / Alaska Native\", \"value\": 35, \"prop\": 0.21774293890755256}, {\"name\": \"Johns Hopkins University\", \"sum\": 16074, \"category\": \"Hispanic\", \"value\": 1498, \"prop\": 9.31939778524325}, {\"name\": \"Johns Hopkins University\", \"sum\": 16074, \"category\": \"Asian\", \"value\": 2919, \"prop\": 18.159761104889885}, {\"name\": \"Johns Hopkins University\", \"sum\": 16074, \"category\": \"Native Hawaiian / Pacific Islander\", \"value\": 27, \"prop\": 0.16797312430011196}, {\"name\": \"Johns Hopkins University\", \"sum\": 16074, \"category\": \"Black\", \"value\": 1419, \"prop\": 8.827920865994775}, {\"name\": \"Middlebury College\", \"sum\": 2104, \"category\": \"American Indian / Alaska Native\", \"value\": 7, \"prop\": 0.3326996197718631}, {\"name\": \"Middlebury College\", \"sum\": 2104, \"category\": \"Asian\", \"value\": 170, \"prop\": 8.079847908745247}, {\"name\": \"Middlebury College\", \"sum\": 2104, \"category\": \"Hispanic\", \"value\": 220, \"prop\": 10.456273764258556}, {\"name\": \"Middlebury College\", \"sum\": 2104, \"category\": \"Black\", \"value\": 73, \"prop\": 3.4695817490494294}, {\"name\": \"Middlebury College\", \"sum\": 2104, \"category\": \"Native Hawaiian / Pacific Islander\", \"value\": 0, \"prop\": 0.0}, {\"name\": \"Middlebury College\", \"sum\": 2104, \"category\": \"White\", \"value\": 1634, \"prop\": 77.66159695817491}, {\"name\": \"New York University\", \"sum\": 31420, \"category\": \"Hispanic\", \"value\": 4267, \"prop\": 13.580521960534691}, {\"name\": \"New York University\", \"sum\": 31420, \"category\": \"Black\", \"value\": 2374, \"prop\": 7.555697008274984}, {\"name\": \"New York University\", \"sum\": 31420, \"category\": \"Asian\", \"value\": 7314, \"prop\": 23.278166772756208}, {\"name\": \"New York University\", \"sum\": 31420, \"category\": \"Native Hawaiian / Pacific Islander\", \"value\": 45, \"prop\": 0.14322087842138764}, {\"name\": \"New York University\", \"sum\": 31420, \"category\": \"American Indian / Alaska Native\", \"value\": 94, \"prop\": 0.2991725015913431}, {\"name\": \"New York University\", \"sum\": 31420, \"category\": \"White\", \"value\": 17326, \"prop\": 55.14322087842138}, {\"name\": \"Northwestern University\", \"sum\": 16013, \"category\": \"White\", \"value\": 10394, \"prop\": 64.9097608193343}, {\"name\": \"Northwestern University\", \"sum\": 16013, \"category\": \"Black\", \"value\": 1058, \"prop\": 6.60713170548929}, {\"name\": \"Northwestern University\", \"sum\": 16013, \"category\": \"Native Hawaiian / Pacific Islander\", \"value\": 12, \"prop\": 0.07493911197152314}, {\"name\": \"Northwestern University\", \"sum\": 16013, \"category\": \"American Indian / Alaska Native\", \"value\": 22, \"prop\": 0.13738837194779244}, {\"name\": \"Northwestern University\", \"sum\": 16013, \"category\": \"Hispanic\", \"value\": 1662, \"prop\": 10.379067008055955}, {\"name\": \"Northwestern University\", \"sum\": 16013, \"category\": \"Asian\", \"value\": 2865, \"prop\": 17.89171298320115}, {\"name\": \"Oberlin College\", \"sum\": 2569, \"category\": \"Native Hawaiian / Pacific Islander\", \"value\": 2, \"prop\": 0.07785130400934215}, {\"name\": \"Oberlin College\", \"sum\": 2569, \"category\": \"American Indian / Alaska Native\", \"value\": 3, \"prop\": 0.11677695601401324}, {\"name\": \"Oberlin College\", \"sum\": 2569, \"category\": \"Asian\", \"value\": 124, \"prop\": 4.826780848579213}, {\"name\": \"Oberlin College\", \"sum\": 2569, \"category\": \"Black\", \"value\": 154, \"prop\": 5.994550408719346}, {\"name\": \"Oberlin College\", \"sum\": 2569, \"category\": \"White\", \"value\": 2071, \"prop\": 80.61502530167381}, {\"name\": \"Oberlin College\", \"sum\": 2569, \"category\": \"Hispanic\", \"value\": 215, \"prop\": 8.369015181004281}, {\"name\": \"Occidental College\", \"sum\": 1688, \"category\": \"Native Hawaiian / Pacific Islander\", \"value\": 5, \"prop\": 0.2962085308056872}, {\"name\": \"Occidental College\", \"sum\": 1688, \"category\": \"Black\", \"value\": 90, \"prop\": 5.33175355450237}, {\"name\": \"Occidental College\", \"sum\": 1688, \"category\": \"White\", \"value\": 1034, \"prop\": 61.25592417061612}, {\"name\": \"Occidental College\", \"sum\": 1688, \"category\": \"American Indian / Alaska Native\", \"value\": 2, \"prop\": 0.11848341232227488}, {\"name\": \"Occidental College\", \"sum\": 1688, \"category\": \"Hispanic\", \"value\": 303, \"prop\": 17.950236966824644}, {\"name\": \"Occidental College\", \"sum\": 1688, \"category\": \"Asian\", \"value\": 254, \"prop\": 15.04739336492891}, {\"name\": \"Pitzer College\", \"sum\": 813, \"category\": \"Hispanic\", \"value\": 163, \"prop\": 20.04920049200492}, {\"name\": \"Pitzer College\", \"sum\": 813, \"category\": \"Black\", \"value\": 46, \"prop\": 5.658056580565805}, {\"name\": \"Pitzer College\", \"sum\": 813, \"category\": \"White\", \"value\": 536, \"prop\": 65.92865928659286}, {\"name\": \"Pitzer College\", \"sum\": 813, \"category\": \"Native Hawaiian / Pacific Islander\", \"value\": 2, \"prop\": 0.24600246002460024}, {\"name\": \"Pitzer College\", \"sum\": 813, \"category\": \"American Indian / Alaska Native\", \"value\": 5, \"prop\": 0.6150061500615006}, {\"name\": \"Pitzer College\", \"sum\": 813, \"category\": \"Asian\", \"value\": 61, \"prop\": 7.503075030750307}, {\"name\": \"Reed College\", \"sum\": 1072, \"category\": \"Native Hawaiian / Pacific Islander\", \"value\": 3, \"prop\": 0.2798507462686567}, {\"name\": \"Reed College\", \"sum\": 1072, \"category\": \"American Indian / Alaska Native\", \"value\": 4, \"prop\": 0.3731343283582089}, {\"name\": \"Reed College\", \"sum\": 1072, \"category\": \"Hispanic\", \"value\": 146, \"prop\": 13.619402985074627}, {\"name\": \"Reed College\", \"sum\": 1072, \"category\": \"White\", \"value\": 813, \"prop\": 75.83955223880598}, {\"name\": \"Reed College\", \"sum\": 1072, \"category\": \"Black\", \"value\": 26, \"prop\": 2.425373134328358}, {\"name\": \"Reed College\", \"sum\": 1072, \"category\": \"Asian\", \"value\": 80, \"prop\": 7.462686567164178}, {\"name\": \"Sarah Lawrence College\", \"sum\": 1290, \"category\": \"Hispanic\", \"value\": 151, \"prop\": 11.705426356589149}, {\"name\": \"Sarah Lawrence College\", \"sum\": 1290, \"category\": \"White\", \"value\": 999, \"prop\": 77.44186046511628}, {\"name\": \"Sarah Lawrence College\", \"sum\": 1290, \"category\": \"Native Hawaiian / Pacific Islander\", \"value\": 1, \"prop\": 0.07751937984496124}, {\"name\": \"Sarah Lawrence College\", \"sum\": 1290, \"category\": \"Asian\", \"value\": 67, \"prop\": 5.1937984496124034}, {\"name\": \"Sarah Lawrence College\", \"sum\": 1290, \"category\": \"American Indian / Alaska Native\", \"value\": 1, \"prop\": 0.07751937984496124}, {\"name\": \"Sarah Lawrence College\", \"sum\": 1290, \"category\": \"Black\", \"value\": 71, \"prop\": 5.503875968992248}, {\"name\": \"Scripps College\", \"sum\": 790, \"category\": \"White\", \"value\": 483, \"prop\": 61.139240506329116}, {\"name\": \"Scripps College\", \"sum\": 790, \"category\": \"Hispanic\", \"value\": 93, \"prop\": 11.772151898734178}, {\"name\": \"Scripps College\", \"sum\": 790, \"category\": \"Native Hawaiian / Pacific Islander\", \"value\": 1, \"prop\": 0.12658227848101267}, {\"name\": \"Scripps College\", \"sum\": 790, \"category\": \"Asian\", \"value\": 181, \"prop\": 22.911392405063292}, {\"name\": \"Scripps College\", \"sum\": 790, \"category\": \"American Indian / Alaska Native\", \"value\": 1, \"prop\": 0.12658227848101267}, {\"name\": \"Scripps College\", \"sum\": 790, \"category\": \"Black\", \"value\": 31, \"prop\": 3.9240506329113924}, {\"name\": \"Smith College\", \"sum\": 2227, \"category\": \"Hispanic\", \"value\": 276, \"prop\": 12.393354288280198}, {\"name\": \"Smith College\", \"sum\": 2227, \"category\": \"Black\", \"value\": 149, \"prop\": 6.690615177368657}, {\"name\": \"Smith College\", \"sum\": 2227, \"category\": \"American Indian / Alaska Native\", \"value\": 5, \"prop\": 0.224517287831163}, {\"name\": \"Smith College\", \"sum\": 2227, \"category\": \"Native Hawaiian / Pacific Islander\", \"value\": 2, \"prop\": 0.08980691513246519}, {\"name\": \"Smith College\", \"sum\": 2227, \"category\": \"White\", \"value\": 1447, \"prop\": 64.97530309833857}, {\"name\": \"Smith College\", \"sum\": 2227, \"category\": \"Asian\", \"value\": 348, \"prop\": 15.626403233048944}, {\"name\": \"Southern Methodist University\", \"sum\": 9370, \"category\": \"Black\", \"value\": 669, \"prop\": 7.1398078975453565}, {\"name\": \"Southern Methodist University\", \"sum\": 9370, \"category\": \"Native Hawaiian / Pacific Islander\", \"value\": 15, \"prop\": 0.16008537886872998}, {\"name\": \"Southern Methodist University\", \"sum\": 9370, \"category\": \"American Indian / Alaska Native\", \"value\": 31, \"prop\": 0.3308431163287086}, {\"name\": \"Southern Methodist University\", \"sum\": 9370, \"category\": \"White\", \"value\": 6812, \"prop\": 72.70010672358592}, {\"name\": \"Southern Methodist University\", \"sum\": 9370, \"category\": \"Asian\", \"value\": 671, \"prop\": 7.161152614727855}, {\"name\": \"Southern Methodist University\", \"sum\": 9370, \"category\": \"Hispanic\", \"value\": 1172, \"prop\": 12.508004268943438}, {\"name\": \"Tufts University\", \"sum\": 8244, \"category\": \"White\", \"value\": 5913, \"prop\": 71.72489082969432}, {\"name\": \"Tufts University\", \"sum\": 8244, \"category\": \"Asian\", \"value\": 1353, \"prop\": 16.41193595342067}, {\"name\": \"Tufts University\", \"sum\": 8244, \"category\": \"Native Hawaiian / Pacific Islander\", \"value\": 4, \"prop\": 0.048520135856380396}, {\"name\": \"Tufts University\", \"sum\": 8244, \"category\": \"Hispanic\", \"value\": 594, \"prop\": 7.20524017467249}, {\"name\": \"Tufts University\", \"sum\": 8244, \"category\": \"Black\", \"value\": 368, \"prop\": 4.463852498786997}, {\"name\": \"Tufts University\", \"sum\": 8244, \"category\": \"American Indian / Alaska Native\", \"value\": 12, \"prop\": 0.1455604075691412}, {\"name\": \"Tulane University\", \"sum\": 10529, \"category\": \"American Indian / Alaska Native\", \"value\": 52, \"prop\": 0.4938740621141609}, {\"name\": \"Tulane University\", \"sum\": 10529, \"category\": \"Asian\", \"value\": 567, \"prop\": 5.38512679266787}, {\"name\": \"Tulane University\", \"sum\": 10529, \"category\": \"Native Hawaiian / Pacific Islander\", \"value\": 10, \"prop\": 0.09497578117580018}, {\"name\": \"Tulane University\", \"sum\": 10529, \"category\": \"White\", \"value\": 8163, \"prop\": 77.52873017380568}, {\"name\": \"Tulane University\", \"sum\": 10529, \"category\": \"Hispanic\", \"value\": 701, \"prop\": 6.657802260423592}, {\"name\": \"Tulane University\", \"sum\": 10529, \"category\": \"Black\", \"value\": 1036, \"prop\": 9.839490929812898}, {\"name\": \"University of Chicago\", \"sum\": 9966, \"category\": \"White\", \"value\": 6440, \"prop\": 64.61970700381296}, {\"name\": \"University of Chicago\", \"sum\": 9966, \"category\": \"Asian\", \"value\": 1923, \"prop\": 19.29560505719446}, {\"name\": \"University of Chicago\", \"sum\": 9966, \"category\": \"Hispanic\", \"value\": 928, \"prop\": 9.31165964278547}, {\"name\": \"University of Chicago\", \"sum\": 9966, \"category\": \"Native Hawaiian / Pacific Islander\", \"value\": 6, \"prop\": 0.060204695966285374}, {\"name\": \"University of Chicago\", \"sum\": 9966, \"category\": \"Black\", \"value\": 634, \"prop\": 6.361629540437487}, {\"name\": \"University of Chicago\", \"sum\": 9966, \"category\": \"American Indian / Alaska Native\", \"value\": 35, \"prop\": 0.35119405980333135}, {\"name\": \"University of Pennsylvania\", \"sum\": 18276, \"category\": \"Native Hawaiian / Pacific Islander\", \"value\": 8, \"prop\": 0.04377325454147516}, {\"name\": \"University of Pennsylvania\", \"sum\": 18276, \"category\": \"American Indian / Alaska Native\", \"value\": 21, \"prop\": 0.1149047931713723}, {\"name\": \"University of Pennsylvania\", \"sum\": 18276, \"category\": \"White\", \"value\": 11248, \"prop\": 61.54519588531407}, {\"name\": \"University of Pennsylvania\", \"sum\": 18276, \"category\": \"Hispanic\", \"value\": 1799, \"prop\": 9.843510615014226}, {\"name\": \"University of Pennsylvania\", \"sum\": 18276, \"category\": \"Asian\", \"value\": 3717, \"prop\": 20.338148391332897}, {\"name\": \"University of Pennsylvania\", \"sum\": 18276, \"category\": \"Black\", \"value\": 1483, \"prop\": 8.114467060625957}, {\"name\": \"University of Rochester\", \"sum\": 7287, \"category\": \"White\", \"value\": 5315, \"prop\": 72.93810896116372}, {\"name\": \"University of Rochester\", \"sum\": 7287, \"category\": \"American Indian / Alaska Native\", \"value\": 28, \"prop\": 0.38424591738712777}, {\"name\": \"University of Rochester\", \"sum\": 7287, \"category\": \"Hispanic\", \"value\": 533, \"prop\": 7.31439549883354}, {\"name\": \"University of Rochester\", \"sum\": 7287, \"category\": \"Asian\", \"value\": 915, \"prop\": 12.55660765747221}, {\"name\": \"University of Rochester\", \"sum\": 7287, \"category\": \"Black\", \"value\": 491, \"prop\": 6.738026622752848}, {\"name\": \"University of Rochester\", \"sum\": 7287, \"category\": \"Native Hawaiian / Pacific Islander\", \"value\": 5, \"prop\": 0.06861534239055854}, {\"name\": \"University of Southern California\", \"sum\": 29319, \"category\": \"American Indian / Alaska Native\", \"value\": 73, \"prop\": 0.24898529963504895}, {\"name\": \"University of Southern California\", \"sum\": 29319, \"category\": \"Asian\", \"value\": 7696, \"prop\": 26.249189945086805}, {\"name\": \"University of Southern California\", \"sum\": 29319, \"category\": \"Black\", \"value\": 2238, \"prop\": 7.633275350455336}, {\"name\": \"University of Southern California\", \"sum\": 29319, \"category\": \"Hispanic\", \"value\": 5286, \"prop\": 18.029264299600943}, {\"name\": \"University of Southern California\", \"sum\": 29319, \"category\": \"Native Hawaiian / Pacific Islander\", \"value\": 104, \"prop\": 0.35471878304171356}, {\"name\": \"University of Southern California\", \"sum\": 29319, \"category\": \"White\", \"value\": 13922, \"prop\": 47.48456632218016}, {\"name\": \"Vassar College\", \"sum\": 2092, \"category\": \"Asian\", \"value\": 265, \"prop\": 12.667304015296368}, {\"name\": \"Vassar College\", \"sum\": 2092, \"category\": \"Black\", \"value\": 135, \"prop\": 6.453154875717017}, {\"name\": \"Vassar College\", \"sum\": 2092, \"category\": \"White\", \"value\": 1418, \"prop\": 67.78202676864244}, {\"name\": \"Vassar College\", \"sum\": 2092, \"category\": \"American Indian / Alaska Native\", \"value\": 1, \"prop\": 0.04780114722753346}, {\"name\": \"Vassar College\", \"sum\": 2092, \"category\": \"Hispanic\", \"value\": 273, \"prop\": 13.049713193116636}, {\"name\": \"Vassar College\", \"sum\": 2092, \"category\": \"Native Hawaiian / Pacific Islander\", \"value\": 0, \"prop\": 0.0}, {\"name\": \"Wellesley College\", \"sum\": 1804, \"category\": \"Asian\", \"value\": 538, \"prop\": 29.82261640798226}, {\"name\": \"Wellesley College\", \"sum\": 1804, \"category\": \"Black\", \"value\": 128, \"prop\": 7.095343680709535}, {\"name\": \"Wellesley College\", \"sum\": 1804, \"category\": \"White\", \"value\": 932, \"prop\": 51.66297117516629}, {\"name\": \"Wellesley College\", \"sum\": 1804, \"category\": \"American Indian / Alaska Native\", \"value\": 1, \"prop\": 0.05543237250554324}, {\"name\": \"Wellesley College\", \"sum\": 1804, \"category\": \"Hispanic\", \"value\": 205, \"prop\": 11.363636363636363}, {\"name\": \"Wellesley College\", \"sum\": 1804, \"category\": \"Native Hawaiian / Pacific Islander\", \"value\": 0, \"prop\": 0.0}, {\"name\": \"Williams College\", \"sum\": 1789, \"category\": \"Black\", \"value\": 147, \"prop\": 8.216880939072107}, {\"name\": \"Williams College\", \"sum\": 1789, \"category\": \"Hispanic\", \"value\": 243, \"prop\": 13.583007266629401}, {\"name\": \"Williams College\", \"sum\": 1789, \"category\": \"Asian\", \"value\": 223, \"prop\": 12.465064281721633}, {\"name\": \"Williams College\", \"sum\": 1789, \"category\": \"American Indian / Alaska Native\", \"value\": 3, \"prop\": 0.16769144773616546}, {\"name\": \"Williams College\", \"sum\": 1789, \"category\": \"Native Hawaiian / Pacific Islander\", \"value\": 0, \"prop\": 0.0}, {\"name\": \"Williams College\", \"sum\": 1789, \"category\": \"White\", \"value\": 1173, \"prop\": 65.5673560648407}]}}, {\"mode\": \"vega-lite\"});\n",
       "</script>"
      ],
      "text/plain": [
       "alt.Chart(...)"
      ]
     },
     "execution_count": 10,
     "metadata": {},
     "output_type": "execute_result"
    }
   ],
   "source": [
    "#Another way to do the plot\n",
    "alt.Chart(df3).mark_bar().encode(\n",
    "    alt.X('prop', stack = 'zero',scale=alt.Scale(domain=(0, 100))),\n",
    "    alt.Y('name',sort=list(pricy_order)),\n",
    "    color='category'\n",
    ")"
   ]
  },
  {
   "cell_type": "code",
   "execution_count": null,
   "metadata": {},
   "outputs": [],
   "source": []
  }
 ],
 "metadata": {
  "kernelspec": {
   "display_name": "Python 3",
   "language": "python",
   "name": "python3"
  },
  "language_info": {
   "codemirror_mode": {
    "name": "ipython",
    "version": 3
   },
   "file_extension": ".py",
   "mimetype": "text/x-python",
   "name": "python",
   "nbconvert_exporter": "python",
   "pygments_lexer": "ipython3",
   "version": "3.7.4"
  }
 },
 "nbformat": 4,
 "nbformat_minor": 4
}
